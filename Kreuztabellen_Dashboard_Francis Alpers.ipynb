{
 "cells": [
  {
   "cell_type": "code",
   "execution_count": 2,
   "id": "99911c93-2ea0-4544-8bb4-ce19fdbee1b4",
   "metadata": {},
   "outputs": [
    {
     "name": "stdout",
     "output_type": "stream",
     "text": [
      "Numpy Version: 2.3.3\n",
      "Numpy Installationspfad: C:\\Users\\franc\\anaconda3\\envs\\nlp_env\\Lib\\site-packages\\numpy\\__init__.py\n",
      "C:\\Users\\franc\\Seafile\\Meine Bibliothek\\Weiterbildung\\Data Analyst - alfatraining\\Modul 5 - Data Analytics\\Projekt\\JupyterLab\n"
     ]
    }
   ],
   "source": [
    "# ===============================\n",
    "# Module importieren\n",
    "# ===============================\n",
    "import numpy as np\n",
    "print(\"Numpy Version:\",np.__version__) # ggf. Downgrade, um Abhängigkeiten mit anderen Bibliotheken (matplotlib, summarytools) sicherzustellen\n",
    "print(\"Numpy Installationspfad:\",np.__file__)\n",
    "import pandas as pd\n",
    "import pandas.api.types as ptypes # benötigt um Pandas Datentypen (z.B. categorical) prüfen zu können\n",
    "import random\n",
    "import json, gzip\n",
    "import os\n",
    "from itertools import permutations\n",
    "from tqdm import tqdm # für Fortschrittsanzeige\n",
    "import math\n",
    "from math import ceil\n",
    "import warnings # benötigt, um \"irrelevante\" Warnungen bie bestimmten Funktionen unterdrücken zu können\n",
    "from typing import Dict, List, Any\n",
    "import dash\n",
    "from dash import Dash, dcc, html, Input, Output, callback, dash_table\n",
    "from dash.dependencies import Input, Output, State, MATCH, ALL\n",
    "import dash_bootstrap_components as dbc\n",
    "import io\n",
    "import xlsxwriter\n",
    "from joblib import Parallel, delayed\n",
    "import orjson\n",
    "# Schneller Entpacker: igzip, fallback gzip\n",
    "try:\n",
    "    import isal.igzip as igzip\n",
    "    GZIP = igzip\n",
    "except ImportError:\n",
    "    import gzip\n",
    "    GZIP = gzip\n",
    "import plotly.express as px\n",
    "import plotly.graph_objs as go\n",
    "from plotly.subplots import make_subplots\n",
    "import base64\n",
    "import pickle\n",
    "\n",
    "# ===============================\n",
    "# Arbeitsverzeichnis festlegen\n",
    "# ===============================\n",
    "# Arbeitsverzeichnis zum Einlesen und Abspeichern der Dateien festlegen bzw. sicherstellen\n",
    "os.chdir(r\"mein\\Arbeitsverzeichnis\\ordner\")\n",
    "print(os.getcwd())"
   ]
  },
  {
   "cell_type": "code",
   "execution_count": 3,
   "id": "80fb9da5-5563-4b4b-9a6c-f7730df1f1a1",
   "metadata": {},
   "outputs": [],
   "source": [
    "# ===============================\n",
    "# Funktionen für Kreuztabellen und Hilfsfunktionen\n",
    "# ===============================\n",
    "\n",
    "def get_crosstab(df, key_parts, show_parts=[\"absolute\", \"row_pct\", \"col_pct\", \"total_pct\"], drop_empty_y=True):\n",
    "    \"\"\"\n",
    "    Liefert Kreuztabelle mit absoluten und relativen Anteilen direkt aus einem DataFrame.\n",
    "    \n",
    "    Parameters\n",
    "    ----------\n",
    "    df : pd.DataFrame\n",
    "        Der DataFrame mit den Rohdaten.\n",
    "    key_parts : list of str\n",
    "        Liste der Variablen, z.B. [x_var, y_var] oder [x_var, group_var, y_var].\n",
    "    show_parts : list of str\n",
    "        Welche Varianten zurückgegeben werden sollen: \"absolute\", \"row_pct\", \"col_pct\", \"total_pct\".\n",
    "    drop_empty_y : bool, default True\n",
    "        Nur y-Kategorien behalten, die mindestens einmal vorkommen.\n",
    "\n",
    "    Returns\n",
    "    -------\n",
    "    dict\n",
    "        Dictionary mit DataFrames für jede angeforderte Variante.\n",
    "    \"\"\"\n",
    "\n",
    "    if len(key_parts) < 2:\n",
    "        raise ValueError(\"Mindestens zwei Variablen (x und y) müssen angegeben werden.\")\n",
    "    \n",
    "    x_var = key_parts[0]\n",
    "    y_var = key_parts[-1]\n",
    "    group_vars = key_parts[1:-1]  # alles zwischen x und y\n",
    "    \n",
    "    # Kreuztabelle erstellen\n",
    "    index_cols = [x_var] + group_vars if group_vars else [x_var]\n",
    "    ct_abs = pd.crosstab(\n",
    "        index=[df[col] for col in index_cols],\n",
    "        columns=df[y_var],\n",
    "        dropna=False\n",
    "    )\n",
    "\n",
    "    if drop_empty_y:\n",
    "        ct_abs = ct_abs.loc[:, (ct_abs.sum(axis=0) != 0)]\n",
    "\n",
    "    outputs = {}\n",
    "    if \"absolute\" in show_parts:\n",
    "        outputs[\"absolute\"] = ct_abs\n",
    "    if \"row_pct\" in show_parts:\n",
    "        outputs[\"row_pct\"] = ct_abs.div(ct_abs.sum(axis=1), axis=0)\n",
    "    if \"col_pct\" in show_parts:\n",
    "        outputs[\"col_pct\"] = ct_abs.div(ct_abs.sum(axis=0), axis=1)\n",
    "    if \"total_pct\" in show_parts:\n",
    "        outputs[\"total_pct\"] = ct_abs / ct_abs.values.sum()\n",
    "\n",
    "    return outputs\n",
    "\n",
    "def export_crosstab(df, key_parts, file_format=\"xlsx\",\n",
    "                    show_parts=[\"absolute\", \"row_pct\", \"col_pct\", \"total_pct\"],\n",
    "                    dashboard=False, drop_empty_y=True):\n",
    "    \"\"\"\n",
    "    Exportiert eine Kreuztabelle in Excel (.xlsx) oder CSV.\n",
    "\n",
    "    - CSV-Export wird immer als String gespeichert → verhindert fehlerhafte Excel-Interpretation.\n",
    "    - Absolute Werte als Integer-Strings.\n",
    "    - Prozentwerte mit fester Nachkommastellenzahl als Strings.\n",
    "    - NaN → 0.\n",
    "    - Optional: drop_empty_y → nur Kategorien von y, die mindestens 1x vorkommen.\n",
    "    \"\"\"\n",
    "    outputs = get_crosstab(df, key_parts, show_parts, drop_empty_y=drop_empty_y)\n",
    "\n",
    "    key_str = \"_\".join(key_parts)\n",
    "    x_vars = key_parts[:-1]  # alle außer der letzten = y_var\n",
    "    y_var = key_parts[-1]\n",
    "\n",
    "    def format_long(df_part, part_name):\n",
    "        df_long = df_part.reset_index().melt(id_vars=x_vars, var_name=y_var, value_name=\"value\")\n",
    "        \n",
    "        # Sicherstellen, dass alle ID-Spalten Strings sind\n",
    "        df_long[x_vars + [y_var]] = df_long[x_vars + [y_var]].astype(str)\n",
    "    \n",
    "        if part_name == \"absolute\":\n",
    "            df_long[\"value\"] = df_long[\"value\"].fillna(0).astype(int).astype(str)\n",
    "        else:\n",
    "            df_long[\"value\"] = df_long[\"value\"].fillna(0).apply(lambda x: f\"{float(x):.10f}\")\n",
    "    \n",
    "        return df_long\n",
    "\n",
    "    if dashboard or len(show_parts) == 1:\n",
    "        part = show_parts[0]\n",
    "        filename = f\"{key_str}_{part}.{file_format}\"\n",
    "        df_to_export = outputs[part].fillna(0)\n",
    "\n",
    "        if file_format == \"xlsx\":\n",
    "            with pd.ExcelWriter(filename) as writer:\n",
    "                df_to_export.to_excel(writer, sheet_name=part)\n",
    "        elif file_format == \"csv\":\n",
    "            df_long = format_long(df_to_export, part)\n",
    "            df_long.to_csv(filename, index=False)\n",
    "        else:\n",
    "            raise ValueError(\"Nur 'xlsx' oder 'csv' werden unterstützt.\")\n",
    "\n",
    "        print(f\"Kreuztabelle '{key_str}' Teil '{part}' exportiert nach '{filename}'.\")\n",
    "\n",
    "    else:\n",
    "        if file_format.lower() == \"excel\":\n",
    "            file_format = \"xlsx\"\n",
    "\n",
    "        parts_string = \"_\".join(show_parts)\n",
    "        filename = f\"{key_str}_{parts_string}.{file_format}\"\n",
    "\n",
    "        if file_format == \"xlsx\":\n",
    "            with pd.ExcelWriter(filename) as writer:\n",
    "                for part_name, df_part in outputs.items():\n",
    "                    df_part = df_part.fillna(0)\n",
    "                    df_part.to_excel(writer, sheet_name=part_name)\n",
    "\n",
    "        elif file_format == \"csv\":\n",
    "            if len(show_parts) > 1:\n",
    "                print(\"Warnung: Bei CSV-Export mit mehreren Teilen werden separate Dateien erstellt.\")\n",
    "                for part_name, df_part in outputs.items():\n",
    "                    df_long = format_long(df_part, part_name)\n",
    "                    individual_filename = f\"{key_str}_{part_name}.{file_format}\"\n",
    "                    df_long.to_csv(individual_filename, index=False)\n",
    "                    print(f\"Kreuztabelle '{key_str}' Teil '{part_name}' exportiert nach '{individual_filename}'.\")\n",
    "                return\n",
    "            else:\n",
    "                df_long = format_long(outputs[show_parts[0]], show_parts[0])\n",
    "                df_long.to_csv(filename, index=False)\n",
    "        else:\n",
    "            raise ValueError(\"Nur 'xlsx' oder 'csv' werden unterstützt.\")\n",
    "\n",
    "        print(f\"Kreuztabelle '{key_str}' exportiert nach '{filename}'.\")\n",
    "\n",
    "def get_all_variables(df):\n",
    "    return sorted(df.columns.tolist())\n",
    "\n",
    "def clean_category(x):\n",
    "    if isinstance(x, tuple):\n",
    "        x = x[0]\n",
    "    return str(x).replace(\"(\", \"\").replace(\")\", \"\").replace(\"'\", \"\").replace(\",\", \"\")\n",
    "\n",
    "\n",
    "def collapse_duplicates(series):\n",
    "    last = None\n",
    "    result = []\n",
    "    for val in series:\n",
    "        if val == last:\n",
    "            result.append(\"\")\n",
    "        else:\n",
    "            result.append(val)\n",
    "            last = val\n",
    "    return result\n",
    "\n",
    "\n",
    "def calc_column_widths(df_reset, columns):\n",
    "    col_widths = []\n",
    "    for col in columns:\n",
    "        col_id = col['id']\n",
    "        max_len = max([len(str(val)) for val in df_reset[col_id]] + [len(str(col_id))])\n",
    "        max_len = max(max_len, 6)\n",
    "        col_widths.append({\n",
    "            'if': {'column_id': col_id},\n",
    "            'width': f'{max_len}ch',\n",
    "            'minWidth': f'{max_len}ch',\n",
    "            'maxWidth': f'{max_len}ch',\n",
    "            'whiteSpace': 'normal'\n",
    "        })\n",
    "    return col_widths"
   ]
  },
  {
   "cell_type": "code",
   "execution_count": 8,
   "id": "b3cde7bd-fa5a-4b3b-bbec-c6319647903f",
   "metadata": {},
   "outputs": [],
   "source": [
    "# ======================================================\n",
    "# Datensätze laden\n",
    "# ======================================================\n",
    "# HIER KÖNNEN BELIEBIGE WEITERE DATENSÄTZE HINZUGEFÜGT UND FÜR DAS DASHBOARD GELADEN WERDEN\n",
    "\n",
    "# bereits berechnete Datensätze laden\n",
    "results = pd.read_parquet(\"Datensatz_gelabeled.parquet\")\n",
    "results_filtered = pd.read_parquet(\"Datensatz_gelabeled_gefiltert.parquet\")\n",
    "results_num = pd.read_parquet(\"Datensatz_numerisch.parquet\")\n",
    "results_num_filtered = pd.read_parquet(\"Datensatz_numerisch_gefiltert.parquet\")\n",
    "\n",
    "# Datensätze kontrollieren!!!\n",
    "# print(get_crosstab(results_num, [\"Mentioned scientists\", \"Time period\", \"Country\"]))\n",
    "\n",
    "# Datensätze für Dashboardanzeige auswählen\n",
    "available_datasets = {\n",
    "    \"Gesamtdaten\": results,\n",
    "    \"Filterdaten (Wissenschaftler)\": results_filtered,\n",
    "    \"Gesamtdaten_numerisch\": results_num,\n",
    "    \"Filterdaten (Wissenschaftler)_numerisch\": results_num_filtered\n",
    "}"
   ]
  },
  {
   "cell_type": "code",
   "execution_count": 7,
   "id": "aeca428e-6481-4b4a-9d25-8fb240acca99",
   "metadata": {},
   "outputs": [
    {
     "data": {
      "text/html": [
       "\n",
       "        <iframe\n",
       "            width=\"100%\"\n",
       "            height=\"650\"\n",
       "            src=\"http://127.0.0.1:8050/\"\n",
       "            frameborder=\"0\"\n",
       "            allowfullscreen\n",
       "            \n",
       "        ></iframe>\n",
       "        "
      ],
      "text/plain": [
       "<IPython.lib.display.IFrame at 0x162c1f46510>"
      ]
     },
     "metadata": {},
     "output_type": "display_data"
    }
   ],
   "source": [
    "# -------------------------------------------------\n",
    "# Dash App\n",
    "# -------------------------------------------------\n",
    "app = dash.Dash(__name__, external_stylesheets=[dbc.themes.BOOTSTRAP])\n",
    "\n",
    "# -------------------------------------------------\n",
    "# Layout\n",
    "# -------------------------------------------------\n",
    "app.layout = dbc.Container([\n",
    "    # html.H2(\"Interaktives Kreuztabellen-Dashboard\", style={\"marginTop\": \"30px\", \"marginBottom\": \"15px\"}),\n",
    "\n",
    "        # ---------------- Trennlinie ----------------\n",
    "    html.Hr(style={\"borderTop\": \"1px solid #ccc\"}),\n",
    "    dbc.Row([\n",
    "        # ---------------- Sidebar links ----------------\n",
    "        dbc.Col([\n",
    "            # ---------------- Tabellenoptionen ----------------\n",
    "            dbc.Card([\n",
    "                dbc.CardHeader(\"Tabellenoptionen\"),\n",
    "                dbc.CardBody([\n",
    "                    # Linke Spalte: Datensatz, X, Y\n",
    "                    dbc.Row([\n",
    "                        dbc.Col([\n",
    "                            dcc.Dropdown(\n",
    "                                id=\"dataset_selector\",\n",
    "                                options=[{\"label\": k, \"value\": k} for k in available_datasets.keys()],\n",
    "                                value=list(available_datasets.keys())[0],\n",
    "                                placeholder=\"Datensatz auswählen\",\n",
    "                                className=\"mb-2\"\n",
    "                            ),\n",
    "                            dcc.Dropdown(\n",
    "                                id=\"x_var\",\n",
    "                                placeholder=\"X-Variable auswählen\",\n",
    "                                className=\"mb-2\"\n",
    "                            ),\n",
    "                            dcc.Dropdown(\n",
    "                                id=\"y_var\",\n",
    "                                placeholder=\"Y-Variable auswählen\",\n",
    "                                className=\"mb-2\"\n",
    "                            )\n",
    "                        ], width=6),\n",
    "\n",
    "                        # Rechte Spalte: Checkboxen für Tabellen\n",
    "                        dbc.Col([\n",
    "                            dbc.Checklist(\n",
    "                                id=\"show_part\",\n",
    "                                options=[\n",
    "                                    {\"label\": \"Absolute Häufigkeiten\", \"value\": \"absolute\"},\n",
    "                                    {\"label\": \"Spaltenprozente\", \"value\": \"col_pct\"},\n",
    "                                    {\"label\": \"Zeilenprozente\", \"value\": \"row_pct\"},\n",
    "                                    {\"label\": \"Totale Häufigkeiten\", \"value\": \"total_pct\"}\n",
    "                                ],\n",
    "                                value=[\"absolute\"],\n",
    "                                inline=True\n",
    "                            )\n",
    "                        ], width=6)\n",
    "                    ], className=\"mb-2\"),\n",
    "\n",
    "                    # Reihe 2: Gruppierungsvariablen\n",
    "                    dbc.Row([\n",
    "                        dbc.Col([\n",
    "                            dcc.Dropdown(\n",
    "                                id=\"group_var\",\n",
    "                                placeholder=\"Gruppierungsvariable 1 (optional)\"\n",
    "                            )\n",
    "                        ]),\n",
    "                        dbc.Col([\n",
    "                            dcc.Dropdown(\n",
    "                                id=\"group_var2\",\n",
    "                                placeholder=\"Gruppierungsvariable 2 (optional)\"\n",
    "                            )\n",
    "                        ])\n",
    "                    ], className=\"mb-2\"),\n",
    "                ])\n",
    "            ], className=\"mb-3\"),  # Ende Tabellenoptionen\n",
    "\n",
    "            # ---------------- Grafikoptionen ----------------\n",
    "            dbc.Card([\n",
    "                dbc.CardHeader(\"Grafikoptionen\"),\n",
    "                dbc.CardBody([\n",
    "                    dbc.Row([\n",
    "                        # Linke Spalte: Dropdowns / Input untereinander\n",
    "                        dbc.Col([\n",
    "                            dcc.Dropdown(\n",
    "                                id=\"visual_part\",\n",
    "                                options=[\n",
    "                                    {\"label\": \"Absolute Häufigkeiten\", \"value\": \"absolute\"},\n",
    "                                    {\"label\": \"Zeilenweise Häufigkeiten\", \"value\": \"row_pct\"},\n",
    "                                    {\"label\": \"Spaltenweise Häufigkeiten\", \"value\": \"col_pct\"},\n",
    "                                    {\"label\": \"Totale Häufigkeiten\", \"value\": \"total_pct\"}\n",
    "                                ],\n",
    "                                value=\"absolute\",\n",
    "                                placeholder=\"Darstellung der Grafik wählen\",\n",
    "                                className=\"mb-2\"\n",
    "                            ),\n",
    "                            dcc.Dropdown(\n",
    "                                id=\"color_palette_selector\",\n",
    "                                options=[\n",
    "                                    {\"label\": \"Plotly\", \"value\": \"Plotly\"},\n",
    "                                    {\"label\": \"Vivid\", \"value\": \"Vivid\"},\n",
    "                                    {\"label\": \"Set3\", \"value\": \"Set3\"},\n",
    "                                    {\"label\": \"Bold\", \"value\": \"Bold\"},\n",
    "                                    {\"label\": \"Dark24\", \"value\": \"Dark24\"},\n",
    "                                    {\"label\": \"Dark2\", \"value\": \"Dark2\"},\n",
    "                                    {\"label\": \"Pastel\", \"value\": \"Pastel\"},\n",
    "                                    {\"label\": \"Pastel1\", \"value\": \"Pastel1\"},\n",
    "                                    {\"label\": \"Set2\", \"value\": \"Set2\"},\n",
    "                                    {\"label\": \"D3\", \"value\": \"D3\"}\n",
    "                                ],\n",
    "                                value=\"Plotly\",\n",
    "                                placeholder=\"Farbpalette auswählen\",\n",
    "                                className=\"mb-2\"\n",
    "                            ),\n",
    "                            dcc.Input(\n",
    "                                id=\"chart_title_input\",\n",
    "                                type=\"text\",\n",
    "                                placeholder=\"Titel eingeben...\",\n",
    "                                value=\"\",\n",
    "                                className=\"mb-2\"\n",
    "                            ),\n",
    "                            dcc.Dropdown(\n",
    "                                id=\"chart_resolution\",\n",
    "                                options=[\n",
    "                                    {\"label\": \"Sehr niedrig\", \"value\": \"600x400\"},\n",
    "                                    {\"label\": \"Niedrig\", \"value\": \"900x600\"},\n",
    "                                    {\"label\": \"Mittel\", \"value\": \"1200x800\"},\n",
    "                                    {\"label\": \"Standard\", \"value\": \"2400x1600\"},\n",
    "                                    {\"label\": \"Hoch\", \"value\": \"4800x3200\"}\n",
    "                                ],\n",
    "                                placeholder=\"Auflösung wählen\",\n",
    "                                className=\"mb-2\"\n",
    "                            )\n",
    "                        ], width=6),\n",
    "            \n",
    "                        # Rechte Spalte: Checkboxen untereinander\n",
    "                        dbc.Col([\n",
    "                            dbc.Checklist(\n",
    "                                id=\"chart_options\",\n",
    "                                options=[\n",
    "                                    {\"label\": \"Text in Balken\", \"value\": \"text\"},\n",
    "                                    {\"label\": \"Legende anzeigen\", \"value\": \"legend\"},\n",
    "                                    {\"label\": \"Achsenrotation\", \"value\": \"rotate\"},\n",
    "                                    {\"label\": \"Titel anzeigen\", \"value\": \"title\"},\n",
    "                                    {\"label\": \"Horizontal\", \"value\": \"horizontal\"}\n",
    "                                ],\n",
    "                                value=[\"text\", \"legend\", \"title\"],\n",
    "                                inline=False  # untereinander\n",
    "                            )\n",
    "                        ], width=6)\n",
    "                    ])\n",
    "                ])\n",
    "            ], className=\"mb-3\"),\n",
    "\n",
    "            # ---------------- Grafik unten ----------------\n",
    "            dcc.Graph(id=\"crosstab_chart\", style={\"height\": \"400px\", \"marginTop\": \"20px\"})\n",
    "        ], width=4),\n",
    "\n",
    "        # ---------------- Tabellen rechts ----------------\n",
    "        dbc.Col([\n",
    "            html.Div(id=\"crosstab_table\"),\n",
    "            html.Div(id=\"warning_message\", style={\"color\": \"red\", \"marginTop\": \"10px\"})\n",
    "        ], width=7)\n",
    "    ])\n",
    "], fluid=True)\n",
    "# -------------------------------------------------\n",
    "# Callback: Dropdown-Optionen\n",
    "# -------------------------------------------------\n",
    "@app.callback(\n",
    "    Output(\"x_var\", \"options\"),\n",
    "    Output(\"y_var\", \"options\"),\n",
    "    Output(\"group_var\", \"options\"),\n",
    "    Output(\"group_var2\", \"options\"),\n",
    "    Output(\"x_var\", \"value\"),\n",
    "    Output(\"y_var\", \"value\"),\n",
    "    Output(\"group_var\", \"value\"),\n",
    "    Output(\"group_var2\", \"value\"),\n",
    "    Input(\"dataset_selector\", \"value\"),\n",
    "    State(\"x_var\", \"value\"),\n",
    "    State(\"y_var\", \"value\"),\n",
    "    State(\"group_var\", \"value\"),\n",
    "    State(\"group_var2\", \"value\")\n",
    ")\n",
    "def update_dropdown(dataset_name, prev_x, prev_y, prev_group, prev_group2):\n",
    "    df = available_datasets[dataset_name]\n",
    "\n",
    "    # nur ganzzahlige oder kategoriale Spalten mit maximal 50 Kategorien für Kreuztabellen\n",
    "    vars_list = [\n",
    "        col for col in get_all_variables(df)\n",
    "        if (\n",
    "            (pd.api.types.is_integer_dtype(df[col]) or isinstance(df[col].dtype, pd.CategoricalDtype))\n",
    "            and df[col].nunique() <= 50 # DIESE BEDINGUNG MUSS GGF ANGEPASST WERDEN UM DIE GEWÜNSCHTEN VARIABLEN ANZUZEIGEN\n",
    "        )\n",
    "    ]\n",
    "    options = [{\"label\": v, \"value\": v} for v in vars_list]\n",
    "\n",
    "    # X/Y-Variablen beibehalten, wenn sie im neuen Datensatz existieren\n",
    "    x_default = prev_x if prev_x in vars_list else (vars_list[0] if vars_list else None)\n",
    "    y_default = prev_y if prev_y in vars_list else (vars_list[1] if len(vars_list) > 1 else None)\n",
    "\n",
    "    # Gruppierungsvariablen beibehalten, wenn sie existieren\n",
    "    group_default = prev_group if prev_group in vars_list else None\n",
    "    group2_default = prev_group2 if prev_group2 in vars_list else None\n",
    "\n",
    "    return options, options, options, options, x_default, y_default, group_default, group2_default\n",
    "\n",
    "# -------------------------------------------------\n",
    "# Callback: Grafik\n",
    "# -------------------------------------------------\n",
    "@app.callback(\n",
    "    Output(\"crosstab_chart\", \"figure\"),\n",
    "    Output(\"crosstab_chart\", \"config\"),\n",
    "    Input(\"dataset_selector\", \"value\"),\n",
    "    Input(\"x_var\", \"value\"),\n",
    "    Input(\"y_var\", \"value\"),\n",
    "    Input(\"group_var\", \"value\"),\n",
    "    Input(\"group_var2\", \"value\"),\n",
    "    Input(\"visual_part\", \"value\"),\n",
    "    Input(\"chart_options\", \"value\"),\n",
    "    Input(\"color_palette_selector\", \"value\"),\n",
    "    Input(\"chart_title_input\", \"value\"),\n",
    "    Input(\"chart_resolution\", \"value\")\n",
    ")\n",
    "def update_chart(dataset_name, x_var, y_var, group_var, group_var2,\n",
    "                 visual_part, chart_options, color_palette_selector,\n",
    "                 chart_title_input, chart_resolution):\n",
    "\n",
    "    if not x_var or not y_var:\n",
    "        return go.Figure(), {}\n",
    "\n",
    "    # -------------------------------------------------\n",
    "    # Optionen\n",
    "    # -------------------------------------------------\n",
    "    show_text = \"text\" in chart_options\n",
    "    show_legend = \"legend\" in chart_options\n",
    "    rotate_labels = \"rotate\" in chart_options\n",
    "    show_title = \"title\" in chart_options\n",
    "    horizontal = \"horizontal\" in chart_options\n",
    "\n",
    "    df = available_datasets[dataset_name]\n",
    "\n",
    "    # -------------------------------------------------\n",
    "    # Auflösung & Skalierung\n",
    "    # -------------------------------------------------\n",
    "    if not chart_resolution:\n",
    "        chart_resolution = \"600x400\"\n",
    "    base_width, base_height = 600, 400\n",
    "    width, height = map(int, chart_resolution.split(\"x\"))\n",
    "    scale_factor = min(width / base_width, height / base_height)\n",
    "\n",
    "    # -------------------------------------------------\n",
    "    # Farben\n",
    "    # -------------------------------------------------\n",
    "    palette_dict = {\n",
    "        \"Plotly\": px.colors.qualitative.Plotly,\n",
    "        \"Vivid\": px.colors.qualitative.Vivid,\n",
    "        \"Set3\": px.colors.qualitative.Set3,\n",
    "        \"Bold\": px.colors.qualitative.Bold,\n",
    "        \"Dark24\": px.colors.qualitative.Dark24,\n",
    "        \"Dark2\": px.colors.qualitative.Dark2,\n",
    "        \"Pastel\": [\"#F4A261\", \"#E76F51\", \"#2A9D8F\", \"#264653\", \"#C8C8A6\", \"#EBE9E9\", \"#BDE0FE\", \"#A2D2FF\"],\n",
    "        \"Pastel1\": px.colors.qualitative.Pastel1,\n",
    "        \"Set2\": px.colors.qualitative.Set2,\n",
    "        \"D3\": px.colors.qualitative.D3\n",
    "    }\n",
    "    palette = palette_dict.get(color_palette_selector, px.colors.qualitative.Plotly)\n",
    "\n",
    "    # -------------------------------------------------\n",
    "    # Axis-Label Mapping\n",
    "    # -------------------------------------------------\n",
    "    part_labels = {\n",
    "        \"absolute\": \"Absolute Häufigkeiten\",\n",
    "        \"row_pct\": \"Zeilenprozente\",\n",
    "        \"col_pct\": \"Spaltenprozente\",\n",
    "        \"total_pct\": \"Totale Häufigkeiten\"\n",
    "    }\n",
    "    axis_label = part_labels.get(visual_part, visual_part)\n",
    "\n",
    "    # -------------------------------------------------\n",
    "    # Hilfsfunktionen für Traces\n",
    "    # -------------------------------------------------\n",
    "    def make_multiindex_traces(df_sub, x_var, y_var, group_var, visual_part, categories, y_values, x_multi):\n",
    "        traces = []\n",
    "        for cat in categories:\n",
    "            values = y_values[cat]\n",
    "            traces.append(go.Bar(\n",
    "                x=x_multi if not horizontal else values,\n",
    "                y=values if not horizontal else x_multi,\n",
    "                text=[cat]*len(values) if show_text else None,\n",
    "                textposition=\"inside\",\n",
    "                insidetextanchor=\"middle\",\n",
    "                textfont=dict(size=14*scale_factor, color=\"white\"),\n",
    "                marker=dict(color=color_map[cat], line=dict(width=0), cornerradius=5),\n",
    "                name=str(cat),\n",
    "                orientation='h' if horizontal else 'v'\n",
    "            ))\n",
    "        return traces\n",
    "\n",
    "    def make_simple_traces(df_long, x_var, y_var, categories):\n",
    "        traces = []\n",
    "        for cat in categories:\n",
    "            subset = df_long[df_long[y_var] == cat]\n",
    "            traces.append(go.Bar(\n",
    "                x=subset[x_var] if not horizontal else subset[\"value\"],\n",
    "                y=subset[\"value\"] if not horizontal else subset[x_var],\n",
    "                text=subset[y_var] if show_text else None,\n",
    "                textposition=\"inside\",\n",
    "                insidetextanchor=\"middle\",\n",
    "                textfont=dict(size=14*scale_factor, color=\"white\"),\n",
    "                marker=dict(color=color_map[cat], line=dict(width=0), cornerradius=5),\n",
    "                name=str(cat),\n",
    "                orientation='h' if horizontal else 'v'\n",
    "            ))\n",
    "        return traces\n",
    "\n",
    "    # -------------------------------------------------\n",
    "    # group_var2-Facetten\n",
    "    # -------------------------------------------------\n",
    "    if group_var2:\n",
    "        categories_g2 = df[group_var2].dropna().unique().tolist()\n",
    "        n_cols = 3\n",
    "        n_rows = ceil(len(categories_g2) / n_cols)\n",
    "\n",
    "        fig = make_subplots(\n",
    "            rows=n_rows, cols=n_cols,\n",
    "            subplot_titles=[f\"{group_var2} = {cat}\" for cat in categories_g2],\n",
    "            shared_yaxes=True if not horizontal else False,\n",
    "            shared_xaxes=True if horizontal else False,\n",
    "            vertical_spacing=0.12,\n",
    "            horizontal_spacing=0.05\n",
    "        )\n",
    "\n",
    "        for idx, cat_g2 in enumerate(categories_g2, start=1):\n",
    "            row = (idx - 1) // n_cols + 1\n",
    "            col = (idx - 1) % n_cols + 1\n",
    "            df_sub = df[df[group_var2] == cat_g2]\n",
    "\n",
    "            # -------------------------------------------------\n",
    "            # Datenaufbereitung innerhalb der Facette\n",
    "            # -------------------------------------------------\n",
    "            if group_var:\n",
    "                key_parts = [x_var, group_var, y_var]\n",
    "                crosstabs = get_crosstab(df_sub, key_parts, show_parts=[visual_part])\n",
    "                ct_data = crosstabs[visual_part]\n",
    "                x_level_1 = [i[0] for i in ct_data.index]\n",
    "                x_level_2 = [i[1] for i in ct_data.index]\n",
    "                y_values = {col: ct_data[col].tolist() for col in ct_data.columns}\n",
    "                categories_for_color = list(y_values.keys())\n",
    "                x_multi = [x_level_1, x_level_2]\n",
    "                color_map = {cat: palette[i % len(palette)] for i, cat in enumerate(categories_for_color)}\n",
    "                traces = make_multiindex_traces(df_sub, x_var, y_var, group_var, visual_part, categories_for_color, y_values, x_multi)\n",
    "            else:\n",
    "                key_parts = [x_var, y_var]\n",
    "                crosstabs = get_crosstab(df_sub, key_parts, show_parts=[visual_part])\n",
    "                df_part = crosstabs[visual_part].copy().reset_index()\n",
    "                df_part.columns = [clean_category(c) for c in df_part.columns]\n",
    "                categories_for_color = [col for col in df_part.columns if col != x_var]\n",
    "                long_data = []\n",
    "                for y_col in categories_for_color:\n",
    "                    for _, row_data in df_part.iterrows():\n",
    "                        long_data.append({x_var: row_data[x_var], \"value\": row_data[y_col], y_var: y_col})\n",
    "                df_long = pd.DataFrame(long_data)\n",
    "                color_map = {cat: palette[i % len(palette)] for i, cat in enumerate(categories_for_color)}\n",
    "                traces = make_simple_traces(df_long, x_var, y_var, categories_for_color)\n",
    "\n",
    "            for tr in traces:\n",
    "                fig.add_trace(tr, row=row, col=col)\n",
    "\n",
    "            # Achsen in inneren Subplots unterdrücken\n",
    "            xaxis_name = f\"xaxis{idx}\" if idx > 1 else \"xaxis\"\n",
    "            yaxis_name = f\"yaxis{idx}\" if idx > 1 else \"yaxis\"\n",
    "\n",
    "            fig.update_layout({\n",
    "                xaxis_name: dict(title='' if row < n_rows else x_var,\n",
    "                                 showticklabels=(row == n_rows)),\n",
    "                yaxis_name: dict(title='' if col > 1 else axis_label,\n",
    "                                 showticklabels=(col == 1))\n",
    "            })\n",
    "\n",
    "        # Legende nur einmal\n",
    "        fig.update_layout(showlegend=True, legend=dict(\n",
    "            orientation=\"v\", x=1.0, y=0.9, xanchor=\"right\", yanchor=\"top\",\n",
    "            font=dict(size=12*scale_factor)\n",
    "        ))\n",
    "\n",
    "    else:\n",
    "        # -------------------------------------------------\n",
    "        # Keine Facetten – normale Logik\n",
    "        # -------------------------------------------------\n",
    "        if group_var:\n",
    "            key_parts = [x_var, group_var, y_var]\n",
    "            crosstabs = get_crosstab(df, key_parts, show_parts=[visual_part])\n",
    "            ct_data = crosstabs[visual_part]\n",
    "            x_level_1 = [i[0] for i in ct_data.index]\n",
    "            x_level_2 = [i[1] for i in ct_data.index]\n",
    "            y_values = {col: ct_data[col].tolist() for col in ct_data.columns}\n",
    "            categories_for_color = list(y_values.keys())\n",
    "            x_multi = [x_level_1, x_level_2]\n",
    "            color_map = {cat: palette[i % len(palette)] for i, cat in enumerate(categories_for_color)}\n",
    "            fig = go.Figure()\n",
    "            traces = make_multiindex_traces(df, x_var, y_var, group_var, visual_part, categories_for_color, y_values, x_multi)\n",
    "            for tr in traces:\n",
    "                fig.add_trace(tr)\n",
    "        else:\n",
    "            key_parts = [x_var, y_var]\n",
    "            crosstabs = get_crosstab(df, key_parts, show_parts=[visual_part])\n",
    "            df_part = crosstabs[visual_part].copy().reset_index()\n",
    "            df_part.columns = [clean_category(c) for c in df_part.columns]\n",
    "            categories_for_color = [col for col in df_part.columns if col != x_var]\n",
    "            long_data = []\n",
    "            for y_col in categories_for_color:\n",
    "                for _, row_data in df_part.iterrows():\n",
    "                    long_data.append({x_var: row_data[x_var], \"value\": row_data[y_col], y_var: y_col})\n",
    "            df_long = pd.DataFrame(long_data)\n",
    "            color_map = {cat: palette[i % len(palette)] for i, cat in enumerate(categories_for_color)}\n",
    "            fig = go.Figure()\n",
    "            traces = make_simple_traces(df_long, x_var, y_var, categories_for_color)\n",
    "            for tr in traces:\n",
    "                fig.add_trace(tr)\n",
    "\n",
    "    # -------------------------------------------------\n",
    "    # Titel\n",
    "    # -------------------------------------------------\n",
    "    title_text = chart_title_input.strip() if (show_title and chart_title_input.strip()) else (\n",
    "        f\"{x_var} × {y_var}\" + (f\" nach {group_var}\" if group_var else \"\") if show_title else None\n",
    "    )\n",
    "\n",
    "    # -------------------------------------------------\n",
    "    # Layout\n",
    "    # -------------------------------------------------\n",
    "    legend_dict = {\n",
    "        \"orientation\": \"v\",\n",
    "        \"x\": 1.0,\n",
    "        \"y\": 0.9,\n",
    "        \"xanchor\": \"right\",\n",
    "        \"yanchor\": \"top\",\n",
    "        \"font\": dict(size=12*scale_factor),\n",
    "        \"itemwidth\": 30*scale_factor,\n",
    "        \"itemsizing\": \"constant\",\n",
    "        \"tracegroupgap\": 5*scale_factor\n",
    "    }\n",
    "\n",
    "    fig.update_layout(\n",
    "        barmode='group',\n",
    "        title=dict(text=title_text, x=0.5, xanchor=\"center\", y=0.95, font=dict(size=18*scale_factor)) if title_text else None,\n",
    "        xaxis=dict(\n",
    "            title=dict(\n",
    "                text=f\"{x_var} und {group_var}\" if group_var and not horizontal else (x_var if not horizontal else axis_label),\n",
    "                standoff=10*scale_factor,\n",
    "                font=dict(size=14*scale_factor)\n",
    "            ),\n",
    "            tickangle=-30 if rotate_labels else 0,\n",
    "            tickfont=dict(size=12*scale_factor)\n",
    "        ),\n",
    "        yaxis=dict(\n",
    "            title=dict(\n",
    "                text=axis_label if not horizontal else (x_var if not group_var else f\"{x_var} und {group_var}\"),\n",
    "                standoff=10*scale_factor,\n",
    "                font=dict(size=14*scale_factor)\n",
    "            ),\n",
    "            tickfont=dict(size=12*scale_factor)\n",
    "        ),\n",
    "        plot_bgcolor=\"#f9f9f9\",\n",
    "        paper_bgcolor=\"#f9f9f9\",\n",
    "        margin=dict(l=60, r=60, t=80, b=60),\n",
    "        showlegend=show_legend,\n",
    "        legend=legend_dict\n",
    "    )\n",
    "\n",
    "    # -------------------------------------------------\n",
    "    # Download-Konfiguration\n",
    "    # -------------------------------------------------\n",
    "    config = {\n",
    "        \"toImageButtonOptions\": {\n",
    "            \"format\": \"png\",\n",
    "            \"filename\": \"crosstab_chart\",\n",
    "            \"width\": width,\n",
    "            \"height\": height\n",
    "        }\n",
    "    }\n",
    "\n",
    "    return fig, config\n",
    "\n",
    "# -------------------------------------------------\n",
    "# Callback: Kreuztabellen + Downloads\n",
    "# -------------------------------------------------\n",
    "@app.callback(\n",
    "    Output(\"crosstab_table\", \"children\"),\n",
    "    Output(\"warning_message\", \"children\"),\n",
    "    Input(\"dataset_selector\", \"value\"),\n",
    "    Input(\"x_var\", \"value\"),\n",
    "    Input(\"y_var\", \"value\"),\n",
    "    Input(\"group_var\", \"value\"),\n",
    "    Input(\"group_var2\", \"value\"),\n",
    "    Input(\"show_part\", \"value\")\n",
    ")\n",
    "def update_table(dataset_name, x_var, y_var, group_var=None, group_var2=None, show_parts=[\"absolute\"]):\n",
    "    if not x_var or not y_var:\n",
    "        return [], \"⚠️ Bitte X- und Y-Variable auswählen.\"\n",
    "\n",
    "    df = available_datasets[dataset_name]\n",
    "    tables = []\n",
    "\n",
    "    part_labels = {\n",
    "    \"absolute\": \"Absolute Häufigkeiten\",\n",
    "    \"row_pct\": \"Zeilenprozente\",\n",
    "    \"col_pct\": \"Spaltenprozente\",\n",
    "    \"total_pct\": \"Totale Häufigkeiten\"\n",
    "    }\n",
    "\n",
    "    for part in show_parts:\n",
    "        # Schlüssel für Crosstab\n",
    "        key_parts = [x_var]\n",
    "        if group_var:\n",
    "            key_parts.append(group_var)\n",
    "        if group_var2:\n",
    "            key_parts.append(group_var2)\n",
    "        key_parts.append(y_var)\n",
    "\n",
    "        try:\n",
    "            crosstabs = get_crosstab(df, key_parts, show_parts=[part])\n",
    "        except KeyError:\n",
    "            continue\n",
    "\n",
    "        df_part = crosstabs[part].copy().reset_index()\n",
    "        df_part.columns = [clean_category(c) for c in df_part.columns]\n",
    "\n",
    "        df_reset = df_part.copy()\n",
    "\n",
    "        # Index-Spalten = X + Gruppierungsvariablen\n",
    "        index_cols = [x_var]\n",
    "        if group_var:\n",
    "            index_cols.append(group_var)\n",
    "        if group_var2:\n",
    "            index_cols.append(group_var2)\n",
    "\n",
    "        # Doppelte Kategorien in Index-Spalten zusammenfassen\n",
    "        for col in index_cols:\n",
    "            if col in df_reset.columns:\n",
    "                df_reset[col] = collapse_duplicates(df_reset[col])\n",
    "\n",
    "        # Relative Häufigkeiten runden\n",
    "        if part in [\"row_pct\", \"col_pct\", \"total_pct\"]:\n",
    "            numeric_cols = [c for c in df_reset.columns if c not in index_cols]\n",
    "            df_reset[numeric_cols] = df_reset[numeric_cols].map(\n",
    "                lambda x: round(x, 3) if isinstance(x, (int, float)) else x\n",
    "            )\n",
    "\n",
    "        # Multi-Header bauen\n",
    "        columns = []\n",
    "        for col in df_reset.columns:\n",
    "            if col in index_cols:\n",
    "                # Index-Spalten: kein Ober-Header\n",
    "                columns.append({\"name\": [\"\", col], \"id\": col})\n",
    "            else:\n",
    "                # Y-Kategorien: Y-Variablenname als Ober-Header\n",
    "                columns.append({\"name\": [y_var, col], \"id\": col})\n",
    "\n",
    "        data = df_reset.to_dict(\"records\")\n",
    "\n",
    "        idx = show_parts.index(part)\n",
    "        tables.append(\n",
    "            dbc.Card([\n",
    "                dbc.CardHeader(f\"Kreuztabelle: {part_labels.get(part, part)}\"),\n",
    "                dbc.CardBody([\n",
    "                    dash_table.DataTable(\n",
    "                        data=data,\n",
    "                        columns=columns,\n",
    "                        merge_duplicate_headers=True,\n",
    "                        style_as_list_view=True,  # entfernt graue Linien\n",
    "                        style_table={\n",
    "                            \"overflowX\": \"auto\",\n",
    "                            \"backgroundColor\": \"white\",\n",
    "                            \"border\": \"none\"\n",
    "                        },\n",
    "                        style_cell={\n",
    "                            \"textAlign\": \"center\",\n",
    "                            \"fontFamily\": \"Segoe UI, Roboto, sans-serif\",\n",
    "                            \"backgroundColor\": \"white\",\n",
    "                            \"border\": \"none\"\n",
    "                        },\n",
    "                        style_header={\n",
    "                            \"fontWeight\": \"bold\",\n",
    "                            \"backgroundColor\": \"white\",\n",
    "                            \"border\": \"none\"\n",
    "                        }\n",
    "                    ),\n",
    "                    dbc.Row([\n",
    "                        dbc.Col(dbc.Button(\"CSV Download\", id={'type': 'btn-download-csv', 'index': idx}, color=\"primary\"), width=\"auto\"),\n",
    "                        dbc.Col(dcc.Download(id={'type': 'download-csv', 'index': idx}), width=\"auto\"),\n",
    "                        dbc.Col(dbc.Button(\"XLSX Download\", id={'type': 'btn-download-xlsx', 'index': idx}, color=\"secondary\"), width=\"auto\"),\n",
    "                        dbc.Col(dcc.Download(id={'type': 'download-xlsx', 'index': idx}), width=\"auto\"),\n",
    "                        dbc.Col(html.Div(id={'type': 'download-status', 'index': idx}), width=\"auto\")\n",
    "                    ], className=\"mt-2\")\n",
    "                ])\n",
    "            ], className=\"mb-3\")\n",
    "        )\n",
    "\n",
    "    return tables, \"\"\n",
    "\n",
    "# -------------------------------------------------\n",
    "# Callback: Download\n",
    "# -------------------------------------------------\n",
    "@app.callback(\n",
    "    Output({'type': 'download-status', 'index': MATCH}, 'children'),\n",
    "    Input({'type': 'btn-download-csv', 'index': MATCH}, 'n_clicks'),\n",
    "    Input({'type': 'btn-download-xlsx', 'index': MATCH}, 'n_clicks'),\n",
    "    State(\"dataset_selector\", \"value\"),\n",
    "    State(\"x_var\", \"value\"),\n",
    "    State(\"y_var\", \"value\"),\n",
    "    State(\"group_var\", \"value\"),\n",
    "    State(\"group_var2\", \"value\"),\n",
    "    State(\"show_part\", \"value\"),\n",
    "    prevent_initial_call=True\n",
    ")\n",
    "def download_crosstab(n_clicks_csv, n_clicks_xlsx,\n",
    "                      dataset_name, x_var, y_var,\n",
    "                      group_var, group_var2, show_parts):\n",
    "\n",
    "    # Prüfen, welche Aktion ausgelöst wurde\n",
    "    ctx_trigger = dash.callback_context.triggered_id\n",
    "    if ctx_trigger is None:\n",
    "        raise dash.exceptions.PreventUpdate\n",
    "\n",
    "    # Nur eine Tabelle exportieren, wenn mehrere ausgewählt\n",
    "    if isinstance(show_parts, list) and len(show_parts) > 0:\n",
    "        show_part = show_parts[0]\n",
    "    else:\n",
    "        show_part = \"absolute\"\n",
    "\n",
    "    df = available_datasets[dataset_name]\n",
    "\n",
    "    # key_parts erstellen – nur gültige Variablen\n",
    "    key_parts = [v for v in [x_var, group_var, group_var2, y_var] if v]\n",
    "\n",
    "    # Debugging: Ausgabe prüfen\n",
    "    print(\"Export CSV/XLSX:\", key_parts, \"Teil:\", show_part, \"Dataset shape:\", df.shape)\n",
    "\n",
    "    try:\n",
    "        # Export CSV\n",
    "        if ctx_trigger['type'] == 'btn-download-csv' and n_clicks_csv:\n",
    "            export_crosstab(df, key_parts, file_format=\"csv\", show_parts=[show_part])\n",
    "            return f\"✅ CSV für '{'_'.join(key_parts)}' ({show_part}) exportiert!\"\n",
    "\n",
    "        # Export XLSX\n",
    "        elif ctx_trigger['type'] == 'btn-download-xlsx' and n_clicks_xlsx:\n",
    "            export_crosstab(df, key_parts, file_format=\"xlsx\", show_parts=[show_part])\n",
    "            return f\"✅ XLSX für '{'_'.join(key_parts)}' ({show_part}) exportiert!\"\n",
    "\n",
    "    except Exception as e:\n",
    "        return f\"❌ Fehler beim Export: {str(e)}\"\n",
    "\n",
    "    raise dash.exceptions.PreventUpdate\n",
    "\n",
    "# -------------------------------------------------\n",
    "# Start\n",
    "# -------------------------------------------------\n",
    "if __name__ == \"__main__\":\n",
    "    app.run(port=8050, debug=False, use_reloader=False)"
   ]
  },
  {
   "cell_type": "code",
   "execution_count": 8,
   "id": "667e42f5-c657-4438-8275-5af46deb1a51",
   "metadata": {},
   "outputs": [
    {
     "name": "stdout",
     "output_type": "stream",
     "text": [
      "{'not mentioned': [19852, 32136, 24760, 18757, 19737, 32082, 24893, 18730, 19800, 32229, 24908, 18629, 20004, 32138, 24848, 18612, 19977, 32001, 24692, 18922, 19821, 32412, 24742, 18665, 19701, 32059, 24852, 19041], 'mentioned': [9863, 15930, 12317, 9243, 9838, 15837, 12314, 9426, 9822, 15810, 12260, 9399, 9728, 15802, 12509, 9216, 9810, 15836, 12307, 9312, 9778, 15866, 12256, 9317, 9962, 15848, 12199, 9195]}\n"
     ]
    }
   ],
   "source": [
    "x_var = 'Country'\n",
    "group_var = 'Time period'\n",
    "y_var = 'Individual Scientist mentioned'\n",
    "show_part = 'absolute'\n",
    "ct = get_crosstab(results, [x_var, group_var, y_var], show_part)\n",
    "ct_abs = ct['absolute']\n",
    "x_level_1 = [idx[0] for idx in ct_abs.index]\n",
    "x_level_2 = [idx[1] for idx in ct_abs.index] \n",
    "y_values = {col: ct_abs[col].tolist() for col in ct_abs.columns}\n",
    "print(y_values)"
   ]
  },
  {
   "cell_type": "code",
   "execution_count": 9,
   "id": "250068ef-5040-47fa-8c51-672af5d3893a",
   "metadata": {},
   "outputs": [
    {
     "data": {
      "application/vnd.plotly.v1+json": {
       "config": {
        "plotlyServerURL": "https://plot.ly"
       },
       "data": [
        {
         "name": "not mentioned",
         "type": "bar",
         "x": [
          [
           "Germany",
           "Germany",
           "Germany",
           "Germany",
           "Italy",
           "Italy",
           "Italy",
           "Italy",
           "Spain",
           "Spain",
           "Spain",
           "Spain",
           "Sweden",
           "Sweden",
           "Sweden",
           "Sweden",
           "Netherlands",
           "Netherlands",
           "Netherlands",
           "Netherlands",
           "UK",
           "UK",
           "UK",
           "UK",
           "USA",
           "USA",
           "USA",
           "USA"
          ],
          [
           "Feb20 to May20",
           "Sep20 to Feb21",
           "Jun21 to Sep21",
           "Nov21 to Jan22",
           "Feb20 to May20",
           "Sep20 to Feb21",
           "Jun21 to Sep21",
           "Nov21 to Jan22",
           "Feb20 to May20",
           "Sep20 to Feb21",
           "Jun21 to Sep21",
           "Nov21 to Jan22",
           "Feb20 to May20",
           "Sep20 to Feb21",
           "Jun21 to Sep21",
           "Nov21 to Jan22",
           "Feb20 to May20",
           "Sep20 to Feb21",
           "Jun21 to Sep21",
           "Nov21 to Jan22",
           "Feb20 to May20",
           "Sep20 to Feb21",
           "Jun21 to Sep21",
           "Nov21 to Jan22",
           "Feb20 to May20",
           "Sep20 to Feb21",
           "Jun21 to Sep21",
           "Nov21 to Jan22"
          ]
         ],
         "y": [
          19852,
          32136,
          24760,
          18757,
          19737,
          32082,
          24893,
          18730,
          19800,
          32229,
          24908,
          18629,
          20004,
          32138,
          24848,
          18612,
          19977,
          32001,
          24692,
          18922,
          19821,
          32412,
          24742,
          18665,
          19701,
          32059,
          24852,
          19041
         ]
        },
        {
         "name": "mentioned",
         "type": "bar",
         "x": [
          [
           "Germany",
           "Germany",
           "Germany",
           "Germany",
           "Italy",
           "Italy",
           "Italy",
           "Italy",
           "Spain",
           "Spain",
           "Spain",
           "Spain",
           "Sweden",
           "Sweden",
           "Sweden",
           "Sweden",
           "Netherlands",
           "Netherlands",
           "Netherlands",
           "Netherlands",
           "UK",
           "UK",
           "UK",
           "UK",
           "USA",
           "USA",
           "USA",
           "USA"
          ],
          [
           "Feb20 to May20",
           "Sep20 to Feb21",
           "Jun21 to Sep21",
           "Nov21 to Jan22",
           "Feb20 to May20",
           "Sep20 to Feb21",
           "Jun21 to Sep21",
           "Nov21 to Jan22",
           "Feb20 to May20",
           "Sep20 to Feb21",
           "Jun21 to Sep21",
           "Nov21 to Jan22",
           "Feb20 to May20",
           "Sep20 to Feb21",
           "Jun21 to Sep21",
           "Nov21 to Jan22",
           "Feb20 to May20",
           "Sep20 to Feb21",
           "Jun21 to Sep21",
           "Nov21 to Jan22",
           "Feb20 to May20",
           "Sep20 to Feb21",
           "Jun21 to Sep21",
           "Nov21 to Jan22",
           "Feb20 to May20",
           "Sep20 to Feb21",
           "Jun21 to Sep21",
           "Nov21 to Jan22"
          ]
         ],
         "y": [
          9863,
          15930,
          12317,
          9243,
          9838,
          15837,
          12314,
          9426,
          9822,
          15810,
          12260,
          9399,
          9728,
          15802,
          12509,
          9216,
          9810,
          15836,
          12307,
          9312,
          9778,
          15866,
          12256,
          9317,
          9962,
          15848,
          12199,
          9195
         ]
        }
       ],
       "layout": {
        "template": {
         "data": {
          "bar": [
           {
            "error_x": {
             "color": "#2a3f5f"
            },
            "error_y": {
             "color": "#2a3f5f"
            },
            "marker": {
             "line": {
              "color": "#E5ECF6",
              "width": 0.5
             },
             "pattern": {
              "fillmode": "overlay",
              "size": 10,
              "solidity": 0.2
             }
            },
            "type": "bar"
           }
          ],
          "barpolar": [
           {
            "marker": {
             "line": {
              "color": "#E5ECF6",
              "width": 0.5
             },
             "pattern": {
              "fillmode": "overlay",
              "size": 10,
              "solidity": 0.2
             }
            },
            "type": "barpolar"
           }
          ],
          "carpet": [
           {
            "aaxis": {
             "endlinecolor": "#2a3f5f",
             "gridcolor": "white",
             "linecolor": "white",
             "minorgridcolor": "white",
             "startlinecolor": "#2a3f5f"
            },
            "baxis": {
             "endlinecolor": "#2a3f5f",
             "gridcolor": "white",
             "linecolor": "white",
             "minorgridcolor": "white",
             "startlinecolor": "#2a3f5f"
            },
            "type": "carpet"
           }
          ],
          "choropleth": [
           {
            "colorbar": {
             "outlinewidth": 0,
             "ticks": ""
            },
            "type": "choropleth"
           }
          ],
          "contour": [
           {
            "colorbar": {
             "outlinewidth": 0,
             "ticks": ""
            },
            "colorscale": [
             [
              0,
              "#0d0887"
             ],
             [
              0.1111111111111111,
              "#46039f"
             ],
             [
              0.2222222222222222,
              "#7201a8"
             ],
             [
              0.3333333333333333,
              "#9c179e"
             ],
             [
              0.4444444444444444,
              "#bd3786"
             ],
             [
              0.5555555555555556,
              "#d8576b"
             ],
             [
              0.6666666666666666,
              "#ed7953"
             ],
             [
              0.7777777777777778,
              "#fb9f3a"
             ],
             [
              0.8888888888888888,
              "#fdca26"
             ],
             [
              1,
              "#f0f921"
             ]
            ],
            "type": "contour"
           }
          ],
          "contourcarpet": [
           {
            "colorbar": {
             "outlinewidth": 0,
             "ticks": ""
            },
            "type": "contourcarpet"
           }
          ],
          "heatmap": [
           {
            "colorbar": {
             "outlinewidth": 0,
             "ticks": ""
            },
            "colorscale": [
             [
              0,
              "#0d0887"
             ],
             [
              0.1111111111111111,
              "#46039f"
             ],
             [
              0.2222222222222222,
              "#7201a8"
             ],
             [
              0.3333333333333333,
              "#9c179e"
             ],
             [
              0.4444444444444444,
              "#bd3786"
             ],
             [
              0.5555555555555556,
              "#d8576b"
             ],
             [
              0.6666666666666666,
              "#ed7953"
             ],
             [
              0.7777777777777778,
              "#fb9f3a"
             ],
             [
              0.8888888888888888,
              "#fdca26"
             ],
             [
              1,
              "#f0f921"
             ]
            ],
            "type": "heatmap"
           }
          ],
          "histogram": [
           {
            "marker": {
             "pattern": {
              "fillmode": "overlay",
              "size": 10,
              "solidity": 0.2
             }
            },
            "type": "histogram"
           }
          ],
          "histogram2d": [
           {
            "colorbar": {
             "outlinewidth": 0,
             "ticks": ""
            },
            "colorscale": [
             [
              0,
              "#0d0887"
             ],
             [
              0.1111111111111111,
              "#46039f"
             ],
             [
              0.2222222222222222,
              "#7201a8"
             ],
             [
              0.3333333333333333,
              "#9c179e"
             ],
             [
              0.4444444444444444,
              "#bd3786"
             ],
             [
              0.5555555555555556,
              "#d8576b"
             ],
             [
              0.6666666666666666,
              "#ed7953"
             ],
             [
              0.7777777777777778,
              "#fb9f3a"
             ],
             [
              0.8888888888888888,
              "#fdca26"
             ],
             [
              1,
              "#f0f921"
             ]
            ],
            "type": "histogram2d"
           }
          ],
          "histogram2dcontour": [
           {
            "colorbar": {
             "outlinewidth": 0,
             "ticks": ""
            },
            "colorscale": [
             [
              0,
              "#0d0887"
             ],
             [
              0.1111111111111111,
              "#46039f"
             ],
             [
              0.2222222222222222,
              "#7201a8"
             ],
             [
              0.3333333333333333,
              "#9c179e"
             ],
             [
              0.4444444444444444,
              "#bd3786"
             ],
             [
              0.5555555555555556,
              "#d8576b"
             ],
             [
              0.6666666666666666,
              "#ed7953"
             ],
             [
              0.7777777777777778,
              "#fb9f3a"
             ],
             [
              0.8888888888888888,
              "#fdca26"
             ],
             [
              1,
              "#f0f921"
             ]
            ],
            "type": "histogram2dcontour"
           }
          ],
          "mesh3d": [
           {
            "colorbar": {
             "outlinewidth": 0,
             "ticks": ""
            },
            "type": "mesh3d"
           }
          ],
          "parcoords": [
           {
            "line": {
             "colorbar": {
              "outlinewidth": 0,
              "ticks": ""
             }
            },
            "type": "parcoords"
           }
          ],
          "pie": [
           {
            "automargin": true,
            "type": "pie"
           }
          ],
          "scatter": [
           {
            "fillpattern": {
             "fillmode": "overlay",
             "size": 10,
             "solidity": 0.2
            },
            "type": "scatter"
           }
          ],
          "scatter3d": [
           {
            "line": {
             "colorbar": {
              "outlinewidth": 0,
              "ticks": ""
             }
            },
            "marker": {
             "colorbar": {
              "outlinewidth": 0,
              "ticks": ""
             }
            },
            "type": "scatter3d"
           }
          ],
          "scattercarpet": [
           {
            "marker": {
             "colorbar": {
              "outlinewidth": 0,
              "ticks": ""
             }
            },
            "type": "scattercarpet"
           }
          ],
          "scattergeo": [
           {
            "marker": {
             "colorbar": {
              "outlinewidth": 0,
              "ticks": ""
             }
            },
            "type": "scattergeo"
           }
          ],
          "scattergl": [
           {
            "marker": {
             "colorbar": {
              "outlinewidth": 0,
              "ticks": ""
             }
            },
            "type": "scattergl"
           }
          ],
          "scattermap": [
           {
            "marker": {
             "colorbar": {
              "outlinewidth": 0,
              "ticks": ""
             }
            },
            "type": "scattermap"
           }
          ],
          "scattermapbox": [
           {
            "marker": {
             "colorbar": {
              "outlinewidth": 0,
              "ticks": ""
             }
            },
            "type": "scattermapbox"
           }
          ],
          "scatterpolar": [
           {
            "marker": {
             "colorbar": {
              "outlinewidth": 0,
              "ticks": ""
             }
            },
            "type": "scatterpolar"
           }
          ],
          "scatterpolargl": [
           {
            "marker": {
             "colorbar": {
              "outlinewidth": 0,
              "ticks": ""
             }
            },
            "type": "scatterpolargl"
           }
          ],
          "scatterternary": [
           {
            "marker": {
             "colorbar": {
              "outlinewidth": 0,
              "ticks": ""
             }
            },
            "type": "scatterternary"
           }
          ],
          "surface": [
           {
            "colorbar": {
             "outlinewidth": 0,
             "ticks": ""
            },
            "colorscale": [
             [
              0,
              "#0d0887"
             ],
             [
              0.1111111111111111,
              "#46039f"
             ],
             [
              0.2222222222222222,
              "#7201a8"
             ],
             [
              0.3333333333333333,
              "#9c179e"
             ],
             [
              0.4444444444444444,
              "#bd3786"
             ],
             [
              0.5555555555555556,
              "#d8576b"
             ],
             [
              0.6666666666666666,
              "#ed7953"
             ],
             [
              0.7777777777777778,
              "#fb9f3a"
             ],
             [
              0.8888888888888888,
              "#fdca26"
             ],
             [
              1,
              "#f0f921"
             ]
            ],
            "type": "surface"
           }
          ],
          "table": [
           {
            "cells": {
             "fill": {
              "color": "#EBF0F8"
             },
             "line": {
              "color": "white"
             }
            },
            "header": {
             "fill": {
              "color": "#C8D4E3"
             },
             "line": {
              "color": "white"
             }
            },
            "type": "table"
           }
          ]
         },
         "layout": {
          "annotationdefaults": {
           "arrowcolor": "#2a3f5f",
           "arrowhead": 0,
           "arrowwidth": 1
          },
          "autotypenumbers": "strict",
          "coloraxis": {
           "colorbar": {
            "outlinewidth": 0,
            "ticks": ""
           }
          },
          "colorscale": {
           "diverging": [
            [
             0,
             "#8e0152"
            ],
            [
             0.1,
             "#c51b7d"
            ],
            [
             0.2,
             "#de77ae"
            ],
            [
             0.3,
             "#f1b6da"
            ],
            [
             0.4,
             "#fde0ef"
            ],
            [
             0.5,
             "#f7f7f7"
            ],
            [
             0.6,
             "#e6f5d0"
            ],
            [
             0.7,
             "#b8e186"
            ],
            [
             0.8,
             "#7fbc41"
            ],
            [
             0.9,
             "#4d9221"
            ],
            [
             1,
             "#276419"
            ]
           ],
           "sequential": [
            [
             0,
             "#0d0887"
            ],
            [
             0.1111111111111111,
             "#46039f"
            ],
            [
             0.2222222222222222,
             "#7201a8"
            ],
            [
             0.3333333333333333,
             "#9c179e"
            ],
            [
             0.4444444444444444,
             "#bd3786"
            ],
            [
             0.5555555555555556,
             "#d8576b"
            ],
            [
             0.6666666666666666,
             "#ed7953"
            ],
            [
             0.7777777777777778,
             "#fb9f3a"
            ],
            [
             0.8888888888888888,
             "#fdca26"
            ],
            [
             1,
             "#f0f921"
            ]
           ],
           "sequentialminus": [
            [
             0,
             "#0d0887"
            ],
            [
             0.1111111111111111,
             "#46039f"
            ],
            [
             0.2222222222222222,
             "#7201a8"
            ],
            [
             0.3333333333333333,
             "#9c179e"
            ],
            [
             0.4444444444444444,
             "#bd3786"
            ],
            [
             0.5555555555555556,
             "#d8576b"
            ],
            [
             0.6666666666666666,
             "#ed7953"
            ],
            [
             0.7777777777777778,
             "#fb9f3a"
            ],
            [
             0.8888888888888888,
             "#fdca26"
            ],
            [
             1,
             "#f0f921"
            ]
           ]
          },
          "colorway": [
           "#636efa",
           "#EF553B",
           "#00cc96",
           "#ab63fa",
           "#FFA15A",
           "#19d3f3",
           "#FF6692",
           "#B6E880",
           "#FF97FF",
           "#FECB52"
          ],
          "font": {
           "color": "#2a3f5f"
          },
          "geo": {
           "bgcolor": "white",
           "lakecolor": "white",
           "landcolor": "#E5ECF6",
           "showlakes": true,
           "showland": true,
           "subunitcolor": "white"
          },
          "hoverlabel": {
           "align": "left"
          },
          "hovermode": "closest",
          "mapbox": {
           "style": "light"
          },
          "paper_bgcolor": "white",
          "plot_bgcolor": "#E5ECF6",
          "polar": {
           "angularaxis": {
            "gridcolor": "white",
            "linecolor": "white",
            "ticks": ""
           },
           "bgcolor": "#E5ECF6",
           "radialaxis": {
            "gridcolor": "white",
            "linecolor": "white",
            "ticks": ""
           }
          },
          "scene": {
           "xaxis": {
            "backgroundcolor": "#E5ECF6",
            "gridcolor": "white",
            "gridwidth": 2,
            "linecolor": "white",
            "showbackground": true,
            "ticks": "",
            "zerolinecolor": "white"
           },
           "yaxis": {
            "backgroundcolor": "#E5ECF6",
            "gridcolor": "white",
            "gridwidth": 2,
            "linecolor": "white",
            "showbackground": true,
            "ticks": "",
            "zerolinecolor": "white"
           },
           "zaxis": {
            "backgroundcolor": "#E5ECF6",
            "gridcolor": "white",
            "gridwidth": 2,
            "linecolor": "white",
            "showbackground": true,
            "ticks": "",
            "zerolinecolor": "white"
           }
          },
          "shapedefaults": {
           "line": {
            "color": "#2a3f5f"
           }
          },
          "ternary": {
           "aaxis": {
            "gridcolor": "white",
            "linecolor": "white",
            "ticks": ""
           },
           "baxis": {
            "gridcolor": "white",
            "linecolor": "white",
            "ticks": ""
           },
           "bgcolor": "#E5ECF6",
           "caxis": {
            "gridcolor": "white",
            "linecolor": "white",
            "ticks": ""
           }
          },
          "title": {
           "x": 0.05
          },
          "xaxis": {
           "automargin": true,
           "gridcolor": "white",
           "linecolor": "white",
           "ticks": "",
           "title": {
            "standoff": 15
           },
           "zerolinecolor": "white",
           "zerolinewidth": 2
          },
          "yaxis": {
           "automargin": true,
           "gridcolor": "white",
           "linecolor": "white",
           "ticks": "",
           "title": {
            "standoff": 15
           },
           "zerolinecolor": "white",
           "zerolinewidth": 2
          }
         }
        },
        "title": {
         "text": "Kreuztabelle mit Gruppierungsvariable"
        },
        "xaxis": {
         "title": {
          "text": "Country und Time period"
         }
        },
        "yaxis": {
         "title": {
          "text": "Anzahl"
         }
        }
       }
      },
      "image/png": "[encoded data removed]"
     },
     "metadata": {},
     "output_type": "display_data"
    }
   ],
   "source": [
    "fig = go.Figure()\n",
    "\n",
    "# Hinzufügen der Balken für jede Kategorie der y_var\n",
    "for category, values in y_values.items():\n",
    "    fig.add_trace(go.Bar(\n",
    "        x=[x_level_1, x_level_2],  # Mehrstufige Achse\n",
    "        y=values,\n",
    "        name=category  # Legendenname für die Kategorie\n",
    "    ))\n",
    "\n",
    "# Diagramm-Layout anpassen\n",
    "fig.update_layout(\n",
    "    title_text=\"Kreuztabelle mit Gruppierungsvariable\",\n",
    "    xaxis_title=f\"{x_var} und {group_var}\",\n",
    "    yaxis_title=\"Anzahl\"\n",
    ")\n",
    "\n",
    "fig.show()"
   ]
  },
  {
   "cell_type": "code",
   "execution_count": null,
   "id": "2fbdc603-12e3-470c-9607-fdcd53819dfe",
   "metadata": {},
   "outputs": [],
   "source": []
  }
 ],
 "metadata": {
  "kernelspec": {
   "display_name": "Python (nlp_env)",
   "language": "python",
   "name": "nlp_env"
  },
  "language_info": {
   "codemirror_mode": {
    "name": "ipython",
    "version": 3
   },
   "file_extension": ".py",
   "mimetype": "text/x-python",
   "name": "python",
   "nbconvert_exporter": "python",
   "pygments_lexer": "ipython3",
   "version": "3.11.13"
  }
 },
 "nbformat": 4,
 "nbformat_minor": 5
}
